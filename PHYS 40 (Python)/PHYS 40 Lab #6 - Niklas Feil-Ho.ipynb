{
 "cells": [
  {
   "cell_type": "markdown",
   "id": "f7c3f30e",
   "metadata": {},
   "source": [
    "# 6.1 Basic list and array operations"
   ]
  },
  {
   "cell_type": "code",
   "execution_count": 24,
   "id": "88ca7dd7",
   "metadata": {},
   "outputs": [
    {
     "name": "stdout",
     "output_type": "stream",
     "text": [
      "[6, 24, 2.5, 'labtime', 1.4142135623730951]\n",
      "3\n",
      "[3, 1, 4, 15, 6]\n",
      "[6, 24, 2.5, 'labtime', 1.4142135623730951, 3, 1, 4, 15, 6]\n",
      "updated my_list3 list [6, 24, 2.5, 'labtime', 1.4142135623730951, 3, 1, 4, 6]\n"
     ]
    }
   ],
   "source": [
    "#1\n",
    "import numpy\n",
    "from numpy import *\n",
    "my_list = [6,24,2.5,'labtime',sqrt(2)]\n",
    "print(my_list)\n",
    "#a\n",
    "index = my_list.index('labtime')\n",
    "print(index)\n",
    "#b\n",
    "my_list2 = [3,1,4,15,6]\n",
    "print(my_list2)\n",
    "my_list3 = my_list + my_list2\n",
    "print(my_list3)\n",
    "#c\n",
    "my_list3.remove(15)\n",
    "print('updated my_list3 list',my_list3)"
   ]
  },
  {
   "cell_type": "code",
   "execution_count": 58,
   "id": "404772b8",
   "metadata": {},
   "outputs": [
    {
     "name": "stdout",
     "output_type": "stream",
     "text": [
      "[ 0.  3.  6.  9. 12. 15. 18. 21. 24. 27. 30. 33. 36. 39. 42.]\n"
     ]
    },
    {
     "data": {
      "text/plain": [
       "15"
      ]
     },
     "execution_count": 58,
     "metadata": {},
     "output_type": "execute_result"
    }
   ],
   "source": [
    "#2\n",
    "import numpy as np\n",
    "\n",
    "apple = np.linspace(0,42, num=15)\n",
    "print(apple)\n",
    "apple.size  "
   ]
  },
  {
   "cell_type": "code",
   "execution_count": 62,
   "id": "c6f45609",
   "metadata": {},
   "outputs": [
    {
     "name": "stdout",
     "output_type": "stream",
     "text": [
      "[ 18.   13.5   9.    4.5   0.   -4.5  -9.  -13.5 -18. ]\n"
     ]
    },
    {
     "data": {
      "text/plain": [
       "9"
      ]
     },
     "execution_count": 62,
     "metadata": {},
     "output_type": "execute_result"
    }
   ],
   "source": [
    "#3\n",
    "import numpy as np \n",
    "\n",
    "orange = np.linspace(18,-18, num=9)\n",
    "print(orange)\n",
    "orange.size"
   ]
  },
  {
   "cell_type": "code",
   "execution_count": 112,
   "id": "955baf58",
   "metadata": {},
   "outputs": [
    {
     "name": "stdout",
     "output_type": "stream",
     "text": [
      "[5.0, 8.733333333333334, 12.466666666666667, 16.2, 19.933333333333334, 23.666666666666668, 27.4, 31.133333333333333, 34.86666666666667, 38.6, 42.333333333333336, 46.06666666666667, 49.8, 53.53333333333333, 57.266666666666666, 61.0]\n"
     ]
    },
    {
     "data": {
      "text/plain": [
       "16"
      ]
     },
     "execution_count": 112,
     "metadata": {},
     "output_type": "execute_result"
    }
   ],
   "source": [
    "#4\n",
    "list = []\n",
    "ratio=(61-5)/15\n",
    "for i in range (0,16):\n",
    "    list.append(5+(ratio*i))\n",
    "print(list)\n",
    "len(list)"
   ]
  },
  {
   "cell_type": "code",
   "execution_count": 119,
   "id": "0b7b64b3",
   "metadata": {},
   "outputs": [
    {
     "name": "stdout",
     "output_type": "stream",
     "text": [
      "Niklas Feil-Ho\n"
     ]
    }
   ],
   "source": [
    "#5\n",
    "#a),b)\n",
    "name_1= 'Niklas ' \n",
    "name_2= 'Feil-Ho'\n",
    "fullname= name_1+name_2\n",
    "print(fullname)"
   ]
  },
  {
   "cell_type": "code",
   "execution_count": 3,
   "id": "afc43390",
   "metadata": {},
   "outputs": [
    {
     "name": "stdout",
     "output_type": "stream",
     "text": [
      "[ 3.  7. 11. 15. 19. 23. 27. 31. 35. 39. 43. 47. 51.]\n",
      "[ 3.  7. 11. 15. 43. 47. 51.]\n"
     ]
    }
   ],
   "source": [
    "#6\n",
    "#a.)\n",
    "import numpy as np\n",
    "\n",
    "Afirst = np.linspace(3,51, num=13)\n",
    "print(Afirst)\n",
    "Afirst.size\n",
    "#b.)\n",
    "Asecond= np.zeros(7)\n",
    "Asecond[0:4]=Afirst[0:4]\n",
    "Asecond[-3:]=Afirst[-3:]\n",
    "print(Asecond)"
   ]
  },
  {
   "cell_type": "markdown",
   "id": "14e7cf42",
   "metadata": {},
   "source": [
    "# 6.2 More vectors, 2D arrays and vectorization "
   ]
  },
  {
   "cell_type": "code",
   "execution_count": 160,
   "id": "2b6af5a3",
   "metadata": {},
   "outputs": [
    {
     "name": "stdout",
     "output_type": "stream",
     "text": [
      "[0.  0.1 0.2 0.3 0.4 0.5 0.6 0.7 0.8 0.9 1.  1.1 1.2 1.3 1.4 1.5 1.6 1.7\n",
      " 1.8 1.9 2.  2.1 2.2 2.3 2.4 2.5 2.6 2.7 2.8 2.9 3. ]\n"
     ]
    }
   ],
   "source": [
    "#1\n",
    "import numpy as np\n",
    "\n",
    "w = np.linspace(0,3,num=31)\n",
    "print(w)"
   ]
  },
  {
   "cell_type": "code",
   "execution_count": 167,
   "id": "ebaf05c8",
   "metadata": {},
   "outputs": [
    {
     "data": {
      "text/plain": [
       "array([0. , 0.1, 0.2, 0.3, 0.4, 0.5, 0.6, 0.7, 0.8, 0.9, 1. , 1.1, 1.2,\n",
       "       1.3, 1.4, 1.5, 1.6, 1.7, 1.8, 1.9, 2. , 2.1, 2.2, 2.3, 2.4, 2.5,\n",
       "       2.6, 2.7, 2.8, 2.9, 3. ])"
      ]
     },
     "execution_count": 167,
     "metadata": {},
     "output_type": "execute_result"
    }
   ],
   "source": [
    "w[:]\n",
    "#this array is being printed as 0.1 ascending order"
   ]
  },
  {
   "cell_type": "code",
   "execution_count": 164,
   "id": "39c9790f",
   "metadata": {},
   "outputs": [
    {
     "data": {
      "text/plain": [
       "array([0. , 0.1, 0.2, 0.3, 0.4, 0.5, 0.6, 0.7, 0.8, 0.9, 1. , 1.1, 1.2,\n",
       "       1.3, 1.4, 1.5, 1.6, 1.7, 1.8, 1.9, 2. , 2.1, 2.2, 2.3, 2.4, 2.5,\n",
       "       2.6, 2.7, 2.8])"
      ]
     },
     "execution_count": 164,
     "metadata": {},
     "output_type": "execute_result"
    }
   ],
   "source": [
    "w[:-2]\n",
    "\n",
    "#this array is printing elements in in a 0.1 ascending order with\n",
    "#a limit of 0.2 under the original range "
   ]
  },
  {
   "cell_type": "code",
   "execution_count": 165,
   "id": "24293b9d",
   "metadata": {},
   "outputs": [
    {
     "data": {
      "text/plain": [
       "array([0. , 0.5, 1. , 1.5, 2. , 2.5, 3. ])"
      ]
     },
     "execution_count": 165,
     "metadata": {},
     "output_type": "execute_result"
    }
   ],
   "source": [
    "w[::5]\n",
    "#This array is printing values in a 0.5 incremental order"
   ]
  },
  {
   "cell_type": "code",
   "execution_count": 168,
   "id": "3b79b1d1",
   "metadata": {},
   "outputs": [
    {
     "data": {
      "text/plain": [
       "array([0.2, 0.8, 1.4, 2. , 2.6])"
      ]
     },
     "execution_count": 168,
     "metadata": {},
     "output_type": "execute_result"
    }
   ],
   "source": [
    "w[2:-2:6]\n",
    "#This array has been increased initially by 0.2 then by 0.6 then by 0.6\n",
    "#followed by 0.6 and finally with 0.6"
   ]
  },
  {
   "cell_type": "code",
   "execution_count": 181,
   "id": "3f93483c",
   "metadata": {},
   "outputs": [
    {
     "name": "stdout",
     "output_type": "stream",
     "text": [
      "[0.   0.25 0.5  0.75 1.  ]\n",
      "[[0.   0.24 0.48]\n",
      " [0.72 0.96 1.2 ]]\n",
      "<class 'numpy.ndarray'>\n",
      "<class 'numpy.ndarray'>\n",
      "5\n",
      "2\n",
      "(5,)\n",
      "(2, 3)\n",
      "5\n",
      "5\n"
     ]
    }
   ],
   "source": [
    "#2\n",
    "import numpy as np\n",
    "\n",
    "ben = np.linspace(0,1,num=5)\n",
    "print(Ben)\n",
    "scoop = np.linspace(0,1.2,num=6).reshape(2,3)\n",
    "print(scoop)\n",
    "print(type(ben))\n",
    "print(type(scoop))\n",
    "print(len(ben))\n",
    "print(len(scoop))\n",
    "print(shape(ben))\n",
    "print(shape(scoop))\n",
    "print(size(ben))\n",
    "print(size(ben))"
   ]
  },
  {
   "cell_type": "code",
   "execution_count": 183,
   "id": "30d3a3f7",
   "metadata": {},
   "outputs": [
    {
     "name": "stdout",
     "output_type": "stream",
     "text": [
      "Variable                    Type                          Data/Info\n",
      "-------------------------------------------------------------------\n",
      "ALLOW_THREADS               int                           1\n",
      "Afirst                      ndarray                       13: 13 elems, type `float64`, 104 bytes\n",
      "Apple                       ndarray                       15: 15 elems, type `float64`, 120 bytes\n",
      "Asecond                     ndarray                       7: 7 elems, type `float64`, 56 bytes\n",
      "AxisError                   type                          <class 'numpy.AxisError'>\n",
      "BUFSIZE                     int                           8192\n",
      "Ben                         ndarray                       5: 5 elems, type `float64`, 40 bytes\n",
      "Bytes0                      type                          <class 'numpy.bytes_'>\n",
      "CLIP                        int                           0\n",
      "ComplexWarning              type                          <class 'numpy.ComplexWarning'>\n",
      "DataSource                  type                          <class 'numpy.DataSource'>\n",
      "Datetime64                  type                          <class 'numpy.datetime64'>\n",
      "ERR_CALL                    int                           3\n",
      "ERR_DEFAULT                 int                           521\n",
      "ERR_IGNORE                  int                           0\n",
      "ERR_LOG                     int                           5\n",
      "ERR_PRINT                   int                           4\n",
      "ERR_RAISE                   int                           2\n",
      "ERR_WARN                    int                           1\n",
      "FLOATING_POINT_SUPPORT      int                           1\n",
      "FPE_DIVIDEBYZERO            int                           1\n",
      "FPE_INVALID                 int                           8\n",
      "FPE_OVERFLOW                int                           2\n",
      "FPE_UNDERFLOW               int                           4\n",
      "False_                      bool_                         False\n",
      "Inf                         float                         inf\n",
      "Infinity                    float                         inf\n",
      "MAXDIMS                     int                           32\n",
      "MAY_SHARE_BOUNDS            int                           0\n",
      "MAY_SHARE_EXACT             int                           -1\n",
      "MachAr                      type                          <class 'numpy.MachAr'>\n",
      "ModuleDeprecationWarning    type                          <class 'numpy.ModuleDeprecationWarning'>\n",
      "NAN                         float                         nan\n",
      "NINF                        float                         -inf\n",
      "NZERO                       float                         -0.0\n",
      "NaN                         float                         nan\n",
      "PINF                        float                         inf\n",
      "PZERO                       float                         0.0\n",
      "RAISE                       int                           2\n",
      "RankWarning                 type                          <class 'numpy.RankWarning'>\n",
      "SHIFT_DIVIDEBYZERO          int                           0\n",
      "SHIFT_INVALID               int                           9\n",
      "SHIFT_OVERFLOW              int                           3\n",
      "SHIFT_UNDERFLOW             int                           6\n",
      "ScalarType                  tuple                         n=32\n",
      "Str0                        type                          <class 'numpy.str_'>\n",
      "TooHardError                type                          <class 'numpy.TooHardError'>\n",
      "True_                       bool_                         True\n",
      "UFUNC_BUFSIZE_DEFAULT       int                           8192\n",
      "UFUNC_PYVALS_NAME           str                           UFUNC_PYVALS\n",
      "Uint64                      type                          <class 'numpy.uint64'>\n",
      "VisibleDeprecationWarning   type                          <class 'numpy.VisibleDeprecationWarning'>\n",
      "WRAP                        int                           1\n",
      "absolute                    ufunc                         <ufunc 'absolute'>\n",
      "add                         ufunc                         <ufunc 'add'>\n",
      "add_docstring               builtin_function_or_method    <built-in function add_docstring>\n",
      "add_newdoc                  function                      <function add_newdoc at 0x7f93c7f79790>\n",
      "add_newdoc_ufunc            builtin_function_or_method    <built-in function _add_newdoc_ufunc>\n",
      "alen                        function                      <function alen at 0x7f93c7f08af0>\n",
      "all                         function                      <function all at 0x7f93c7f08280>\n",
      "allclose                    function                      <function allclose at 0x7f93c7f38af0>\n",
      "alltrue                     function                      <function alltrue at 0x7f93c7f0de50>\n",
      "amax                        function                      <function amax at 0x7f93c7f08790>\n",
      "amin                        function                      <function amin at 0x7f93c7f08940>\n",
      "angle                       function                      <function angle at 0x7f93c8117700>\n",
      "any                         function                      <function any at 0x7f93c7f080d0>\n",
      "append                      function                      <function append at 0x7f93c811b430>\n",
      "apple                       ndarray                       15: 15 elems, type `float64`, 120 bytes\n",
      "apply_along_axis            function                      <function apply_along_axis at 0x7f93c81269d0>\n",
      "apply_over_axes             function                      <function apply_over_axes at 0x7f93c8126b80>\n",
      "arange                      builtin_function_or_method    <built-in function arange>\n",
      "arccos                      ufunc                         <ufunc 'arccos'>\n",
      "arccosh                     ufunc                         <ufunc 'arccosh'>\n",
      "arcsin                      ufunc                         <ufunc 'arcsin'>\n",
      "arcsinh                     ufunc                         <ufunc 'arcsinh'>\n",
      "arctan                      ufunc                         <ufunc 'arctan'>\n",
      "arctan2                     ufunc                         <ufunc 'arctan2'>\n",
      "arctanh                     ufunc                         <ufunc 'arctanh'>\n",
      "argmax                      function                      <function argmax at 0x7f93c7f00a60>\n",
      "argmin                      function                      <function argmin at 0x7f93c7f00c10>\n",
      "argpartition                function                      <function argpartition at 0x7f93c7f00550>\n",
      "argsort                     function                      <function argsort at 0x7f93c7f008b0>\n",
      "argwhere                    function                      <function argwhere at 0x7f93c7f171f0>\n",
      "around                      function                      <function around at 0x7f93c7f0d3a0>\n",
      "array                       ndarray                       31: 31 elems, type `float64`, 248 bytes\n",
      "array2string                function                      <function array2string at 0x7f93c7f3ce50>\n",
      "array_equal                 function                      <function array_equal at 0x7f93c7f38e50>\n",
      "array_equiv                 function                      <function array_equiv at 0x7f93c7f3c040>\n",
      "array_repr                  function                      <function array_repr at 0x7f93c7f4d1f0>\n",
      "array_split                 function                      <function array_split at 0x7f93c812b310>\n",
      "array_str                   function                      <function array_str at 0x7f93c7f4d550>\n",
      "asanyarray                  builtin_function_or_method    <built-in function asanyarray>\n",
      "asarray                     builtin_function_or_method    <built-in function asarray>\n",
      "asarray_chkfinite           function                      <function asarray_chkfinite at 0x7f93c8112af0>\n",
      "ascontiguousarray           builtin_function_or_method    <built-in function ascontiguousarray>\n",
      "asfarray                    function                      <function asfarray at 0x7f93c7fb9ee0>\n",
      "asfortranarray              builtin_function_or_method    <built-in function asfortranarray>\n",
      "asmatrix                    function                      <function asmatrix at 0x7f93c8102c10>\n",
      "asscalar                    function                      <function asscalar at 0x7f93c7fc5d30>\n",
      "atleast_1d                  function                      <function atleast_1d at 0x7f93c7f0df70>\n",
      "atleast_2d                  function                      <function atleast_2d at 0x7f93c7f10160>\n",
      "atleast_3d                  function                      <function atleast_3d at 0x7f93c7f10310>\n",
      "average                     function                      <function average at 0x7f93c8112a60>\n",
      "bartlett                    function                      <function bartlett at 0x7f93c8119a60>\n",
      "base_repr                   function                      <function base_repr at 0x7f93c7f38700>\n",
      "ben                         ndarray                       5: 5 elems, type `float64`, 40 bytes\n",
      "binary_repr                 function                      <function binary_repr at 0x7f93c7f38670>\n",
      "bincount                    function                      <function bincount at 0x7f93c7ecf5e0>\n",
      "bitwise_and                 ufunc                         <ufunc 'bitwise_and'>\n",
      "bitwise_not                 ufunc                         <ufunc 'invert'>\n",
      "bitwise_or                  ufunc                         <ufunc 'bitwise_or'>\n",
      "bitwise_xor                 ufunc                         <ufunc 'bitwise_xor'>\n",
      "blackman                    function                      <function blackman at 0x7f93c81199d0>\n",
      "block                       function                      <function block at 0x7f93c7f10dc0>\n",
      "bmat                        function                      <function bmat at 0x7f93c7fe4f70>\n",
      "bool8                       type                          <class 'numpy.bool_'>\n",
      "bool_                       type                          <class 'numpy.bool_'>\n",
      "broadcast                   type                          <class 'numpy.broadcast'>\n",
      "broadcast_arrays            function                      <function broadcast_arrays at 0x7f93c7fdad30>\n",
      "broadcast_shapes            function                      <function broadcast_shapes at 0x7f93c7fdab80>\n",
      "broadcast_to                function                      <function broadcast_to at 0x7f93c7fdaa60>\n",
      "busday_count                function                      <function busday_count at 0x7f93c7ed3280>\n",
      "busday_offset               function                      <function busday_offset at 0x7f93c7ed3160>\n",
      "busdaycalendar              type                          <class 'numpy.busdaycalendar'>\n",
      "byte                        type                          <class 'numpy.int8'>\n",
      "byte_bounds                 function                      <function byte_bounds at 0x7f93c8135700>\n",
      "bytes0                      type                          <class 'numpy.bytes_'>\n",
      "bytes_                      type                          <class 'numpy.bytes_'>\n",
      "c_                          CClass                        <numpy.lib.index_tricks.C<...>object at 0x7f93c8113fa0>\n",
      "can_cast                    function                      <function can_cast at 0x7f93c7ecf040>\n",
      "cast                        _typedict                     {<class 'numpy.uint16'>: <...>mbda> at 0x7f93c7ede820>}\n",
      "cbrt                        ufunc                         <ufunc 'cbrt'>\n",
      "cdouble                     type                          <class 'numpy.complex128'>\n",
      "ceil                        ufunc                         <ufunc 'ceil'>\n",
      "cfloat                      type                          <class 'numpy.complex128'>\n",
      "char                        module                        <module 'numpy.core.defch<...>py/core/defchararray.py'>\n",
      "character                   type                          <class 'numpy.character'>\n",
      "chararray                   type                          <class 'numpy.chararray'>\n",
      "choose                      function                      <function choose at 0x7f93c7ef8af0>\n",
      "clip                        function                      <function clip at 0x7f93c7f04d30>\n",
      "clongdouble                 type                          <class 'numpy.complex256'>\n",
      "clongfloat                  type                          <class 'numpy.complex256'>\n",
      "column_stack                function                      <function column_stack at 0x7f93c8126ee0>\n",
      "common_type                 function                      <function common_type at 0x7f93c7fc5f70>\n",
      "compare_chararrays          builtin_function_or_method    <built-in function compare_chararrays>\n",
      "complex128                  type                          <class 'numpy.complex128'>\n",
      "complex256                  type                          <class 'numpy.complex256'>\n",
      "complex64                   type                          <class 'numpy.complex64'>\n",
      "complex_                    type                          <class 'numpy.complex128'>\n",
      "complexfloating             type                          <class 'numpy.complexfloating'>\n",
      "compress                    function                      <function compress at 0x7f93c7f04b80>\n",
      "concatenate                 function                      <function concatenate at 0x7f93c7eceb80>\n",
      "conj                        ufunc                         <ufunc 'conjugate'>\n",
      "conjugate                   ufunc                         <ufunc 'conjugate'>\n",
      "convolve                    function                      <function convolve at 0x7f93c7f17700>\n",
      "copy                        function                      <function copy at 0x7f93c8117040>\n",
      "copysign                    ufunc                         <ufunc 'copysign'>\n",
      "copyto                      function                      <function copyto at 0x7f93c7ecf940>\n",
      "corrcoef                    function                      <function corrcoef at 0x7f93c8119940>\n",
      "correlate                   function                      <function correlate at 0x7f93c7f17550>\n",
      "cos                         ufunc                         <ufunc 'cos'>\n",
      "cosh                        ufunc                         <ufunc 'cosh'>\n",
      "count_nonzero               function                      <function count_nonzero at 0x7f93c7f14f70>\n",
      "cov                         function                      <function cov at 0x7f93c8119790>\n",
      "cross                       function                      <function cross at 0x7f93c7f38280>\n",
      "csingle                     type                          <class 'numpy.complex64'>\n",
      "ctypeslib                   module                        <module 'numpy.ctypeslib'<...>ages/numpy/ctypeslib.py'>\n",
      "cucumber                    ndarray                       13: 13 elems, type `float64`, 104 bytes\n",
      "cumprod                     function                      <function cumprod at 0x7f93c7f08e50>\n",
      "cumproduct                  function                      <function cumproduct at 0x7f93c7f0dc10>\n",
      "cumsum                      function                      <function cumsum at 0x7f93c7f08430>\n",
      "datetime64                  type                          <class 'numpy.datetime64'>\n",
      "datetime_as_string          function                      <function datetime_as_string at 0x7f93c7ed33a0>\n",
      "datetime_data               builtin_function_or_method    <built-in function datetime_data>\n",
      "deg2rad                     ufunc                         <ufunc 'deg2rad'>\n",
      "degrees                     ufunc                         <ufunc 'degrees'>\n",
      "delete                      function                      <function delete at 0x7f93c811b0d0>\n",
      "deprecate                   function                      <function deprecate at 0x7f93c81355e0>\n",
      "deprecate_with_doc          function                      <function deprecate_with_doc at 0x7f93c8135670>\n",
      "diag                        function                      <function diag at 0x7f93c7fed3a0>\n",
      "diag_indices                function                      <function diag_indices at 0x7f93c811e3a0>\n",
      "diag_indices_from           function                      <function diag_indices_from at 0x7f93c811e550>\n",
      "diagflat                    function                      <function diagflat at 0x7f93c7fed4c0>\n",
      "diagonal                    function                      <function diagonal at 0x7f93c7f04310>\n",
      "diff                        function                      <function diff at 0x7f93c81173a0>\n",
      "digitize                    function                      <function digitize at 0x7f93c811b5e0>\n",
      "disp                        function                      <function disp at 0x7f93c8117e50>\n",
      "divide                      ufunc                         <ufunc 'true_divide'>\n",
      "divmod                      ufunc                         <ufunc 'divmod'>\n",
      "dot                         function                      <function dot at 0x7f93c7ecf3a0>\n",
      "double                      type                          <class 'numpy.float64'>\n",
      "dsplit                      function                      <function dsplit at 0x7f93c812b8b0>\n",
      "dstack                      function                      <function dstack at 0x7f93c812b0d0>\n",
      "dtype                       _DTypeMeta                    <class 'numpy.dtype'>\n",
      "e                           float                         2.718281828459045\n",
      "ediff1d                     function                      <function ediff1d at 0x7f93c813e1f0>\n",
      "einsum                      function                      <function einsum at 0x7f93c7f85f70>\n",
      "einsum_path                 function                      <function einsum_path at 0x7f93c7f85dc0>\n",
      "emath                       module                        <module 'numpy.lib.scimat<...>es/numpy/lib/scimath.py'>\n",
      "empty                       builtin_function_or_method    <built-in function empty>\n",
      "empty_like                  function                      <function empty_like at 0x7f93c7ecea60>\n",
      "equal                       ufunc                         <ufunc 'equal'>\n",
      "errstate                    type                          <class 'numpy.errstate'>\n",
      "euler_gamma                 float                         0.5772156649015329\n",
      "exp                         ufunc                         <ufunc 'exp'>\n",
      "exp2                        ufunc                         <ufunc 'exp2'>\n",
      "expand_dims                 function                      <function expand_dims at 0x7f93c8126d30>\n",
      "expm1                       ufunc                         <ufunc 'expm1'>\n",
      "extract                     function                      <function extract at 0x7f93c8117dc0>\n",
      "eye                         function                      <function eye at 0x7f93c7fed160>\n",
      "fabs                        ufunc                         <ufunc 'fabs'>\n",
      "fastCopyAndTranspose        builtin_function_or_method    <built-in function _fastCopyAndTranspose>\n",
      "fft                         module                        <module 'numpy.fft' from <...>s/numpy/fft/__init__.py'>\n",
      "fill_diagonal               function                      <function fill_diagonal at 0x7f93c811e310>\n",
      "find_common_type            function                      <function find_common_type at 0x7f93c7edeb80>\n",
      "finfo                       type                          <class 'numpy.finfo'>\n",
      "fix                         function                      <function fix at 0x7f93c7fb99d0>\n",
      "flatiter                    type                          <class 'numpy.flatiter'>\n",
      "flatnonzero                 function                      <function flatnonzero at 0x7f93c7f173a0>\n",
      "flexible                    type                          <class 'numpy.flexible'>\n",
      "flip                        function                      <function flip at 0x7f93c8112820>\n",
      "fliplr                      function                      <function fliplr at 0x7f93c7fdaee0>\n",
      "flipud                      function                      <function flipud at 0x7f93c7fed040>\n",
      "float128                    type                          <class 'numpy.float128'>\n",
      "float16                     type                          <class 'numpy.float16'>\n",
      "float32                     type                          <class 'numpy.float32'>\n",
      "float64                     type                          <class 'numpy.float64'>\n",
      "float_                      type                          <class 'numpy.float64'>\n",
      "float_power                 ufunc                         <ufunc 'float_power'>\n",
      "floating                    type                          <class 'numpy.floating'>\n",
      "floor                       ufunc                         <ufunc 'floor'>\n",
      "floor_divide                ufunc                         <ufunc 'floor_divide'>\n",
      "fmax                        ufunc                         <ufunc 'fmax'>\n",
      "fmin                        ufunc                         <ufunc 'fmin'>\n",
      "fmod                        ufunc                         <ufunc 'fmod'>\n",
      "format_float_positional     function                      <function format_float_po<...>tional at 0x7f93c7f4a3a0>\n",
      "format_float_scientific     function                      <function format_float_sc<...>ntific at 0x7f93c7f4a310>\n",
      "format_parser               type                          <class 'numpy.format_parser'>\n",
      "frexp                       ufunc                         <ufunc 'frexp'>\n",
      "frombuffer                  builtin_function_or_method    <built-in function frombuffer>\n",
      "fromfile                    builtin_function_or_method    <built-in function fromfile>\n",
      "fromfunction                function                      <function fromfunction at 0x7f93c7f38430>\n",
      "fromiter                    builtin_function_or_method    <built-in function fromiter>\n",
      "frompyfunc                  builtin_function_or_method    <built-in function frompyfunc>\n",
      "fromregex                   function                      <function fromregex at 0x7f93c815a9d0>\n",
      "fromstring                  builtin_function_or_method    <built-in function fromstring>\n",
      "full                        function                      <function full at 0x7f93c7f14b80>\n",
      "full_like                   function                      <function full_like at 0x7f93c7f14dc0>\n",
      "fullname                    str                           Niklas Feil-Ho\n",
      "gcd                         ufunc                         <ufunc 'gcd'>\n",
      "generic                     type                          <class 'numpy.generic'>\n",
      "genfromtxt                  function                      <function genfromtxt at 0x7f93c815aaf0>\n",
      "geomspace                   function                      <function geomspace at 0x7f93c7f79670>\n",
      "get_array_wrap              function                      <function get_array_wrap at 0x7f93c812b940>\n",
      "get_include                 function                      <function get_include at 0x7f93c8133ee0>\n",
      "get_printoptions            function                      <function get_printoptions at 0x7f93c7f3c670>\n",
      "getbufsize                  function                      <function getbufsize at 0x7f93c7f14280>\n",
      "geterr                      function                      <function geterr at 0x7f93c7f14160>\n",
      "geterrcall                  function                      <function geterrcall at 0x7f93c7f143a0>\n",
      "geterrobj                   builtin_function_or_method    <built-in function geterrobj>\n",
      "gradient                    function                      <function gradient at 0x7f93c81171f0>\n",
      "greater                     ufunc                         <ufunc 'greater'>\n",
      "greater_equal               ufunc                         <ufunc 'greater_equal'>\n",
      "half                        type                          <class 'numpy.float16'>\n",
      "hamming                     function                      <function hamming at 0x7f93c8119b80>\n",
      "hanning                     function                      <function hanning at 0x7f93c8119af0>\n",
      "heaviside                   ufunc                         <ufunc 'heaviside'>\n",
      "histogram                   function                      <function histogram at 0x7f93c8112430>\n",
      "histogram2d                 function                      <function histogram2d at 0x7f93c7dbc670>\n",
      "histogram_bin_edges         function                      <function histogram_bin_edges at 0x7f93c8112280>\n",
      "histogramdd                 function                      <function histogramdd at 0x7f93c81125e0>\n",
      "hsplit                      function                      <function hsplit at 0x7f93c812b670>\n",
      "hstack                      function                      <function hstack at 0x7f93c7f10670>\n",
      "hypot                       ufunc                         <ufunc 'hypot'>\n",
      "i                           int                           15\n",
      "i0                          function                      <function i0 at 0x7f93c8119ee0>\n",
      "identity                    function                      <function identity at 0x7f93c7f388b0>\n",
      "iinfo                       type                          <class 'numpy.iinfo'>\n",
      "imag                        function                      <function imag at 0x7f93c7fc5280>\n",
      "in1d                        function                      <function in1d at 0x7f93c813e9d0>\n",
      "index                       int                           3\n",
      "index_exp                   IndexExpression               <numpy.lib.index_tricks.I<...>object at 0x7f93c81132e0>\n",
      "indices                     function                      <function indices at 0x7f93c7f38310>\n",
      "inexact                     type                          <class 'numpy.inexact'>\n",
      "inf                         float                         inf\n",
      "info                        function                      <function info at 0x7f93c8135a60>\n",
      "infty                       float                         inf\n",
      "inner                       function                      <function inner at 0x7f93c7ececa0>\n",
      "insert                      function                      <function insert at 0x7f93c811b280>\n",
      "int0                        type                          <class 'numpy.int64'>\n",
      "int16                       type                          <class 'numpy.int16'>\n",
      "int32                       type                          <class 'numpy.int32'>\n",
      "int64                       type                          <class 'numpy.int64'>\n",
      "int8                        type                          <class 'numpy.int8'>\n",
      "int_                        type                          <class 'numpy.int64'>\n",
      "intc                        type                          <class 'numpy.int32'>\n",
      "integer                     type                          <class 'numpy.integer'>\n",
      "interp                      function                      <function interp at 0x7f93c8117550>\n",
      "intersect1d                 function                      <function intersect1d at 0x7f93c813e670>\n",
      "intp                        type                          <class 'numpy.int64'>\n",
      "invert                      ufunc                         <ufunc 'invert'>\n",
      "is_busday                   function                      <function is_busday at 0x7f93c7ed3040>\n",
      "isclose                     function                      <function isclose at 0x7f93c7f38ca0>\n",
      "iscomplex                   function                      <function iscomplex at 0x7f93c7fc5430>\n",
      "iscomplexobj                function                      <function iscomplexobj at 0x7f93c7fc5670>\n",
      "isfinite                    ufunc                         <ufunc 'isfinite'>\n",
      "isfortran                   function                      <function isfortran at 0x7f93c7f17040>\n",
      "isin                        function                      <function isin at 0x7f93c813eb80>\n",
      "isinf                       ufunc                         <ufunc 'isinf'>\n",
      "isnan                       ufunc                         <ufunc 'isnan'>\n",
      "isnat                       ufunc                         <ufunc 'isnat'>\n",
      "isneginf                    function                      <function isneginf at 0x7f93c7fb9d30>\n",
      "isposinf                    function                      <function isposinf at 0x7f93c7fb9b80>\n",
      "isreal                      function                      <function isreal at 0x7f93c7fc5550>\n",
      "isrealobj                   function                      <function isrealobj at 0x7f93c7fc5790>\n",
      "isscalar                    function                      <function isscalar at 0x7f93c7f385e0>\n",
      "issctype                    function                      <function issctype at 0x7f93c7edb700>\n",
      "issubclass_                 function                      <function issubclass_ at 0x7f93c7edb820>\n",
      "issubdtype                  function                      <function issubdtype at 0x7f93c7edb940>\n",
      "issubsctype                 function                      <function issubsctype at 0x7f93c7edb8b0>\n",
      "iterable                    function                      <function iterable at 0x7f93c81128b0>\n",
      "ix_                         function                      <function ix_ at 0x7f93c811b700>\n",
      "kaiser                      function                      <function kaiser at 0x7f93c8119f70>\n",
      "kron                        function                      <function kron at 0x7f93c812bb80>\n",
      "lcm                         ufunc                         <ufunc 'lcm'>\n",
      "ldexp                       ufunc                         <ufunc 'ldexp'>\n",
      "left_shift                  ufunc                         <ufunc 'left_shift'>\n",
      "less                        ufunc                         <ufunc 'less'>\n",
      "less_equal                  ufunc                         <ufunc 'less_equal'>\n",
      "lexsort                     function                      <function lexsort at 0x7f93c7eceee0>\n",
      "linalg                      module                        <module 'numpy.linalg' fr<...>umpy/linalg/__init__.py'>\n",
      "linspace                    function                      <function linspace at 0x7f93c7f79310>\n",
      "list                        list                          n=16\n",
      "little_endian               bool                          True\n",
      "load                        function                      <function load at 0x7f93c8159f70>\n",
      "loads                       function                      <function loads at 0x7f93c8159700>\n",
      "loadtxt                     function                      <function loadtxt at 0x7f93c815a700>\n",
      "log                         ufunc                         <ufunc 'log'>\n",
      "log10                       ufunc                         <ufunc 'log10'>\n",
      "log1p                       ufunc                         <ufunc 'log1p'>\n",
      "log2                        ufunc                         <ufunc 'log2'>\n",
      "logaddexp                   ufunc                         <ufunc 'logaddexp'>\n",
      "logaddexp2                  ufunc                         <ufunc 'logaddexp2'>\n",
      "logical_and                 ufunc                         <ufunc 'logical_and'>\n",
      "logical_not                 ufunc                         <ufunc 'logical_not'>\n",
      "logical_or                  ufunc                         <ufunc 'logical_or'>\n",
      "logical_xor                 ufunc                         <ufunc 'logical_xor'>\n",
      "logspace                    function                      <function logspace at 0x7f93c7f794c0>\n",
      "longcomplex                 type                          <class 'numpy.complex256'>\n",
      "longdouble                  type                          <class 'numpy.float128'>\n",
      "longfloat                   type                          <class 'numpy.float128'>\n",
      "longlong                    type                          <class 'numpy.longlong'>\n",
      "lookfor                     function                      <function lookfor at 0x7f93c8135b80>\n",
      "ma                          module                        <module 'numpy.ma' from '<...>es/numpy/ma/__init__.py'>\n",
      "mafromtxt                   function                      <function mafromtxt at 0x7f93c815ac10>\n",
      "mask_indices                function                      <function mask_indices at 0x7f93c7083f70>\n",
      "mat                         function                      <function asmatrix at 0x7f93c8102c10>\n",
      "math                        module                        <module 'math' from '/App<...>th.cpython-39-darwin.so'>\n",
      "matmul                      ufunc                         <ufunc 'matmul'>\n",
      "matrix                      type                          <class 'numpy.matrix'>\n",
      "maximum                     ufunc                         <ufunc 'maximum'>\n",
      "maximum_sctype              function                      <function maximum_sctype at 0x7f93c7edb670>\n",
      "may_share_memory            function                      <function may_share_memory at 0x7f93c7ecfee0>\n",
      "mean                        function                      <function mean at 0x7f93c7f0d550>\n",
      "median                      function                      <function median at 0x7f93c811a550>\n",
      "memmap                      type                          <class 'numpy.memmap'>\n",
      "meshgrid                    function                      <function meshgrid at 0x7f93c811aee0>\n",
      "mgrid                       MGridClass                    <numpy.lib.index_tricks.M<...>object at 0x7f93c8113940>\n",
      "min_scalar_type             function                      <function min_scalar_type at 0x7f93c7ecf160>\n",
      "minimum                     ufunc                         <ufunc 'minimum'>\n",
      "mintypecode                 function                      <function mintypecode at 0x7f93c7fb9820>\n",
      "mod                         ufunc                         <ufunc 'remainder'>\n",
      "modf                        ufunc                         <ufunc 'modf'>\n",
      "moveaxis                    function                      <function moveaxis at 0x7f93c7f38040>\n",
      "msort                       function                      <function msort at 0x7f93c811a310>\n",
      "multiply                    ufunc                         <ufunc 'multiply'>\n",
      "my_list                     list                          n=5\n",
      "my_list2                    list                          n=5\n",
      "my_list3                    list                          n=9\n",
      "name_1                      str                           Niklas \n",
      "name_2                      str                           Feil-Ho\n",
      "nan                         float                         nan\n",
      "nan_to_num                  function                      <function nan_to_num at 0x7f93c7fc59d0>\n",
      "nanargmax                   function                      <function nanargmax at 0x7f93c811ef70>\n",
      "nanargmin                   function                      <function nanargmin at 0x7f93c811edc0>\n",
      "nancumprod                  function                      <function nancumprod at 0x7f93c8123670>\n",
      "nancumsum                   function                      <function nancumsum at 0x7f93c81234c0>\n",
      "nanmax                      function                      <function nanmax at 0x7f93c811ec10>\n",
      "nanmean                     function                      <function nanmean at 0x7f93c8123820>\n",
      "nanmedian                   function                      <function nanmedian at 0x7f93c8123b80>\n",
      "nanmin                      function                      <function nanmin at 0x7f93c811ea60>\n",
      "nanpercentile               function                      <function nanpercentile at 0x7f93c8123d30>\n",
      "nanprod                     function                      <function nanprod at 0x7f93c8123310>\n",
      "nanquantile                 function                      <function nanquantile at 0x7f93c8123ee0>\n",
      "nanstd                      function                      <function nanstd at 0x7f93c8126430>\n",
      "nansum                      function                      <function nansum at 0x7f93c8123160>\n",
      "nanvar                      function                      <function nanvar at 0x7f93c8126280>\n",
      "nbytes                      _typedict                     {<class 'numpy.bool_'>: 1<...> 'numpy.timedelta64'>: 8}\n",
      "ndarray                     type                          <class 'numpy.ndarray'>\n",
      "ndenumerate                 type                          <class 'numpy.ndenumerate'>\n",
      "ndfromtxt                   function                      <function ndfromtxt at 0x7f93c815aa60>\n",
      "ndim                        function                      <function ndim at 0x7f93c7f0d040>\n",
      "ndindex                     type                          <class 'numpy.ndindex'>\n",
      "nditer                      type                          <class 'numpy.nditer'>\n",
      "negative                    ufunc                         <ufunc 'negative'>\n",
      "nested_iters                builtin_function_or_method    <built-in function nested_iters>\n",
      "newaxis                     NoneType                      None\n",
      "nextafter                   ufunc                         <ufunc 'nextafter'>\n",
      "nonzero                     function                      <function nonzero at 0x7f93c7f04820>\n",
      "not_equal                   ufunc                         <ufunc 'not_equal'>\n",
      "np                          module                        <module 'numpy' from '/Ap<...>kages/numpy/__init__.py'>\n",
      "number                      type                          <class 'numpy.number'>\n",
      "numpy                       module                        <module 'numpy' from '/Ap<...>kages/numpy/__init__.py'>\n",
      "obj2sctype                  function                      <function obj2sctype at 0x7f93c7edb790>\n",
      "object0                     type                          <class 'numpy.object_'>\n",
      "object_                     type                          <class 'numpy.object_'>\n",
      "ogrid                       OGridClass                    <numpy.lib.index_tricks.O<...>object at 0x7f93c8113760>\n",
      "ones                        function                      <function ones at 0x7f93c7f14820>\n",
      "ones_like                   function                      <function ones_like at 0x7f93c7f14a60>\n",
      "orange                      ndarray                       9: 9 elems, type `float64`, 72 bytes\n",
      "outer                       function                      <function outer at 0x7f93c7f178b0>\n",
      "packbits                    function                      <function packbits at 0x7f93c7ecfb80>\n",
      "pad                         function                      <function pad at 0x7f93c815daf0>\n",
      "partition                   function                      <function partition at 0x7f93c7f003a0>\n",
      "percentile                  function                      <function percentile at 0x7f93c811a790>\n",
      "pi                          float                         3.141592653589793\n",
      "piecewise                   function                      <function piecewise at 0x7f93c8112ca0>\n",
      "place                       function                      <function place at 0x7f93c8117f70>\n",
      "poly                        function                      <function poly at 0x7f93c8133040>\n",
      "poly1d                      type                          <class 'numpy.poly1d'>\n",
      "polyadd                     function                      <function polyadd at 0x7f93c8133a60>\n",
      "polyder                     function                      <function polyder at 0x7f93c8133550>\n",
      "polydiv                     function                      <function polydiv at 0x7f93c8133e50>\n",
      "polyfit                     function                      <function polyfit at 0x7f93c8133700>\n",
      "polyint                     function                      <function polyint at 0x7f93c81333a0>\n",
      "polymul                     function                      <function polymul at 0x7f93c8133ca0>\n",
      "polysub                     function                      <function polysub at 0x7f93c8133b80>\n",
      "polyval                     function                      <function polyval at 0x7f93c81338b0>\n",
      "positive                    ufunc                         <ufunc 'positive'>\n",
      "power                       ufunc                         <ufunc 'power'>\n",
      "printoptions                function                      <function printoptions at 0x7f93c7f3c790>\n",
      "prod                        function                      <function prod at 0x7f93c7f08ca0>\n",
      "product                     function                      <function product at 0x7f93c7f0daf0>\n",
      "promote_types               builtin_function_or_method    <built-in function promote_types>\n",
      "ptp                         function                      <function ptp at 0x7f93c7f085e0>\n",
      "put                         function                      <function put at 0x7f93c7ef8e50>\n",
      "put_along_axis              function                      <function put_along_axis at 0x7f93c8126820>\n",
      "putmask                     function                      <function putmask at 0x7f93c7ecfa60>\n",
      "quantile                    function                      <function quantile at 0x7f93c811a940>\n",
      "r_                          RClass                        <numpy.lib.index_tricks.R<...>object at 0x7f93c8113100>\n",
      "rad2deg                     ufunc                         <ufunc 'rad2deg'>\n",
      "radians                     ufunc                         <ufunc 'radians'>\n",
      "random                      module                        <module 'numpy.random' fr<...>umpy/random/__init__.py'>\n",
      "ratio                       float                         3.7333333333333334\n",
      "ravel                       function                      <function ravel at 0x7f93c7f04670>\n",
      "ravel_multi_index           function                      <function ravel_multi_index at 0x7f93c7ecf700>\n",
      "real                        function                      <function real at 0x7f93c7fc50d0>\n",
      "real_if_close               function                      <function real_if_close at 0x7f93c7fc5b80>\n",
      "rec                         module                        <module 'numpy.core.recor<...>s/numpy/core/records.py'>\n",
      "recarray                    type                          <class 'numpy.recarray'>\n",
      "recfromcsv                  function                      <function recfromcsv at 0x7f93c815ad30>\n",
      "recfromtxt                  function                      <function recfromtxt at 0x7f93c815aca0>\n",
      "reciprocal                  ufunc                         <ufunc 'reciprocal'>\n",
      "record                      type                          <class 'numpy.record'>\n",
      "remainder                   ufunc                         <ufunc 'remainder'>\n",
      "repeat                      function                      <function repeat at 0x7f93c7ef8ca0>\n",
      "require                     function                      <function require at 0x7f93c7f4d790>\n",
      "reshape                     function                      <function reshape at 0x7f93c7ef8940>\n",
      "resize                      function                      <function resize at 0x7f93c7f00f70>\n",
      "result_type                 function                      <function result_type at 0x7f93c7ecf280>\n",
      "right_shift                 ufunc                         <ufunc 'right_shift'>\n",
      "rint                        ufunc                         <ufunc 'rint'>\n",
      "roll                        function                      <function roll at 0x7f93c7f17c10>\n",
      "rollaxis                    function                      <function rollaxis at 0x7f93c7f17dc0>\n",
      "roots                       function                      <function roots at 0x7f93c81331f0>\n",
      "rot90                       function                      <function rot90 at 0x7f93c8112670>\n",
      "round_                      function                      <function round_ at 0x7f93c7f0d9d0>\n",
      "row_stack                   function                      <function vstack at 0x7f93c7f10550>\n",
      "s_                          IndexExpression               <numpy.lib.index_tricks.I<...>object at 0x7f93c8113d30>\n",
      "safe_eval                   function                      <function safe_eval at 0x7f93c8135ca0>\n",
      "save                        function                      <function save at 0x7f93c815a160>\n",
      "savetxt                     function                      <function savetxt at 0x7f93c815a940>\n",
      "savez                       function                      <function savez at 0x7f93c815a310>\n",
      "savez_compressed            function                      <function savez_compressed at 0x7f93c815a4c0>\n",
      "scoop                       ndarray                       2x3: 6 elems, type `float64`, 48 bytes\n",
      "sctype2char                 function                      <function sctype2char at 0x7f93c7edbaf0>\n",
      "sctypeDict                  dict                          n=139\n",
      "sctypes                     dict                          n=5\n",
      "searchsorted                function                      <function searchsorted at 0x7f93c7f00dc0>\n",
      "select                      function                      <function select at 0x7f93c8112e50>\n",
      "set_numeric_ops             builtin_function_or_method    <built-in function set_numeric_ops>\n",
      "set_printoptions            function                      <function set_printoptions at 0x7f93c7f3c5e0>\n",
      "set_string_function         function                      <function set_string_function at 0x7f93c7f4d430>\n",
      "setbufsize                  function                      <function setbufsize at 0x7f93c7f141f0>\n",
      "setdiff1d                   function                      <function setdiff1d at 0x7f93c813eee0>\n",
      "seterr                      function                      <function seterr at 0x7f93c7f140d0>\n",
      "seterrcall                  function                      <function seterrcall at 0x7f93c7f14310>\n",
      "seterrobj                   builtin_function_or_method    <built-in function seterrobj>\n",
      "setxor1d                    function                      <function setxor1d at 0x7f93c813e820>\n",
      "shape                       function                      <function shape at 0x7f93c7f049d0>\n",
      "shares_memory               function                      <function shares_memory at 0x7f93c7ecfdc0>\n",
      "short                       type                          <class 'numpy.int16'>\n",
      "show_config                 function                      <function show at 0x7f93c7dc7040>\n",
      "sign                        ufunc                         <ufunc 'sign'>\n",
      "signbit                     ufunc                         <ufunc 'signbit'>\n",
      "signedinteger               type                          <class 'numpy.signedinteger'>\n",
      "sin                         ufunc                         <ufunc 'sin'>\n",
      "sinc                        function                      <function sinc at 0x7f93c811a160>\n",
      "single                      type                          <class 'numpy.float32'>\n",
      "singlecomplex               type                          <class 'numpy.complex64'>\n",
      "sinh                        ufunc                         <ufunc 'sinh'>\n",
      "size                        function                      <function size at 0x7f93c7f0d1f0>\n",
      "sometrue                    function                      <function sometrue at 0x7f93c7f0dd30>\n",
      "sort                        function                      <function sort at 0x7f93c7f00700>\n",
      "sort_complex                function                      <function sort_complex at 0x7f93c8117a60>\n",
      "source                      function                      <function source at 0x7f93c8135af0>\n",
      "spacing                     ufunc                         <ufunc 'spacing'>\n",
      "split                       function                      <function split at 0x7f93c812b4c0>\n",
      "sqrt                        ufunc                         <ufunc 'sqrt'>\n",
      "square                      ufunc                         <ufunc 'square'>\n",
      "squeeze                     function                      <function squeeze at 0x7f93c7f04160>\n",
      "stack                       function                      <function stack at 0x7f93c7f10820>\n",
      "std                         function                      <function std at 0x7f93c7f0d700>\n",
      "str0                        type                          <class 'numpy.str_'>\n",
      "str_                        type                          <class 'numpy.str_'>\n",
      "string_                     type                          <class 'numpy.bytes_'>\n",
      "subtract                    ufunc                         <ufunc 'subtract'>\n",
      "sum                         function                      <function sum at 0x7f93c7f04ee0>\n",
      "swapaxes                    function                      <function swapaxes at 0x7f93c7f00040>\n",
      "take                        function                      <function take at 0x7f93c7ef8790>\n",
      "take_along_axis             function                      <function take_along_axis at 0x7f93c8126670>\n",
      "tan                         ufunc                         <ufunc 'tan'>\n",
      "tanh                        ufunc                         <ufunc 'tanh'>\n",
      "tensordot                   function                      <function tensordot at 0x7f93c7f17a60>\n",
      "tile                        function                      <function tile at 0x7f93c812bd30>\n",
      "timedelta64                 type                          <class 'numpy.timedelta64'>\n",
      "trace                       function                      <function trace at 0x7f93c7f044c0>\n",
      "tracemalloc_domain          int                           389047\n",
      "transpose                   function                      <function transpose at 0x7f93c7f001f0>\n",
      "trapz                       function                      <function trapz at 0x7f93c811ad30>\n",
      "tri                         function                      <function tri at 0x7f93c7fed5e0>\n",
      "tril                        function                      <function tril at 0x7f93c7fed820>\n",
      "tril_indices                function                      <function tril_indices at 0x7f93c7fedb80>\n",
      "tril_indices_from           function                      <function tril_indices_from at 0x7f93c7feddc0>\n",
      "trim_zeros                  function                      <function trim_zeros at 0x7f93c8117c10>\n",
      "triu                        function                      <function triu at 0x7f93c7fed940>\n",
      "triu_indices                function                      <function triu_indices at 0x7f93c7fede50>\n",
      "triu_indices_from           function                      <function triu_indices_from at 0x7f93c7fedf70>\n",
      "true_divide                 ufunc                         <ufunc 'true_divide'>\n",
      "trunc                       ufunc                         <ufunc 'trunc'>\n",
      "typecodes                   dict                          n=9\n",
      "typename                    function                      <function typename at 0x7f93c7fc5dc0>\n",
      "ubyte                       type                          <class 'numpy.uint8'>\n",
      "ufunc                       type                          <class 'numpy.ufunc'>\n",
      "uint                        type                          <class 'numpy.uint64'>\n",
      "uint0                       type                          <class 'numpy.uint64'>\n",
      "uint16                      type                          <class 'numpy.uint16'>\n",
      "uint32                      type                          <class 'numpy.uint32'>\n",
      "uint64                      type                          <class 'numpy.uint64'>\n",
      "uint8                       type                          <class 'numpy.uint8'>\n",
      "uintc                       type                          <class 'numpy.uint32'>\n",
      "uintp                       type                          <class 'numpy.uint64'>\n",
      "ulonglong                   type                          <class 'numpy.ulonglong'>\n",
      "unicode_                    type                          <class 'numpy.str_'>\n",
      "union1d                     function                      <function union1d at 0x7f93c813ed30>\n",
      "unique                      function                      <function unique at 0x7f93c813e430>\n",
      "unpackbits                  function                      <function unpackbits at 0x7f93c7ecfca0>\n",
      "unravel_index               function                      <function unravel_index at 0x7f93c7ecf820>\n",
      "unsignedinteger             type                          <class 'numpy.unsignedinteger'>\n",
      "unwrap                      function                      <function unwrap at 0x7f93c81178b0>\n",
      "ushort                      type                          <class 'numpy.uint16'>\n",
      "vander                      function                      <function vander at 0x7f93c7fedaf0>\n",
      "var                         function                      <function var at 0x7f93c7f0d8b0>\n",
      "vdot                        function                      <function vdot at 0x7f93c7ecf4c0>\n",
      "vectorize                   type                          <class 'numpy.vectorize'>\n",
      "void                        type                          <class 'numpy.void'>\n",
      "void0                       type                          <class 'numpy.void'>\n",
      "vsplit                      function                      <function vsplit at 0x7f93c812b790>\n",
      "vstack                      function                      <function vstack at 0x7f93c7f10550>\n",
      "w                           ndarray                       31: 31 elems, type `float64`, 248 bytes\n",
      "where                       function                      <function where at 0x7f93c7ecedc0>\n",
      "who                         function                      <function who at 0x7f93c8135790>\n",
      "zeros                       builtin_function_or_method    <built-in function zeros>\n",
      "zeros_like                  function                      <function zeros_like at 0x7f93c7f14700>\n"
     ]
    }
   ],
   "source": [
    "whos"
   ]
  },
  {
   "cell_type": "code",
   "execution_count": 186,
   "id": "e6157a62",
   "metadata": {},
   "outputs": [
    {
     "name": "stdout",
     "output_type": "stream",
     "text": [
      "5\n",
      "0.0\n",
      "1.0\n",
      "2.5\n",
      "[0.0, 0.25, 0.5, 0.75, 1.0]\n",
      "[0.   0.25 0.5  0.75 1.  ]\n"
     ]
    }
   ],
   "source": [
    "#3\n",
    "import numpy as np\n",
    "\n",
    "cloud= np.linspace(0,1,num=5)\n",
    "print(len(cloud))\n",
    "# len showed me how many elements are in the vector\n",
    "print(min(cloud))\n",
    "# min showed me the minimum value of the vector\n",
    "print(max(cloud))\n",
    "# max showed me the maximum value of the vector\n",
    "print(sum(cloud))\n",
    "# sum showed me the sum of all the values within the vector\n",
    "print(sorted(cloud))\n",
    "# sorted sorted all the values within the vector from min to max\n",
    "print(sort(cloud))  \n",
    "# sort does the sane thing as sorted except doesn't show decimal of 0"
   ]
  },
  {
   "cell_type": "code",
   "execution_count": 191,
   "id": "6271854b",
   "metadata": {},
   "outputs": [
    {
     "name": "stdout",
     "output_type": "stream",
     "text": [
      "[[ 0.   4.   8.  12.  16.  20.  24.  28. ]\n",
      " [69.  68.  67.  66.  65.  64.  63.  62. ]\n",
      " [ 1.4  1.3  1.2  1.1  1.   0.9  0.8  0.7]]\n"
     ]
    }
   ],
   "source": [
    "#4\n",
    "import numpy as np\n",
    "\n",
    "b1 = np.linspace(0,28, num=8)\n",
    "b2 = np.linspace(69,62,num=8)\n",
    "b3= np.linspace(1.4,0.7,num=8)\n",
    "b=np.vstack((b1,b2,b3))\n",
    "print(b)"
   ]
  },
  {
   "cell_type": "code",
   "execution_count": 196,
   "id": "9005faa2",
   "metadata": {},
   "outputs": [
    {
     "name": "stdout",
     "output_type": "stream",
     "text": [
      "[1. 2. 3.]\n",
      "[[ 0.   4.   8.   1.  16.  20.  24.  28. ]\n",
      " [69.  68.  67.   2.  65.  64.  63.  62. ]\n",
      " [ 1.4  1.3  1.2  3.   1.   0.9  0.8  0.7]]\n"
     ]
    }
   ],
   "source": [
    "#5\n",
    "b[:,3]\n",
    "b_5=np.linspace(1,3,num=3)\n",
    "print(b_5)\n",
    "b[:,3]=b_5\n",
    "print(b)"
   ]
  },
  {
   "cell_type": "code",
   "execution_count": 222,
   "id": "efce776f",
   "metadata": {},
   "outputs": [
    {
     "name": "stdout",
     "output_type": "stream",
     "text": [
      "[[7. 7. 7. 7. 7.]\n",
      " [7. 7. 7. 7. 7.]]\n"
     ]
    }
   ],
   "source": [
    "#6\n",
    "#a.)\n",
    "import numpy as np\n",
    "\n",
    "msame_1_2 = np.linspace(7,7,num=10).reshape(2,5)\n",
    "print(msame_1_2)"
   ]
  },
  {
   "cell_type": "code",
   "execution_count": 224,
   "id": "95d532c9",
   "metadata": {},
   "outputs": [
    {
     "name": "stdout",
     "output_type": "stream",
     "text": [
      "[[7. 7. 7. 7. 7.]\n",
      " [7. 7. 7. 7. 7.]\n",
      " [0. 0. 0. 0. 0.]\n",
      " [1. 2. 3. 4. 5.]]\n"
     ]
    }
   ],
   "source": [
    "#b.)\n",
    "msame_3 = np.linspace(0,0,num=5)\n",
    "msame_4 = np.linspace(1,5,num=5)\n",
    "msame = np.vstack((msame_1_2,msame_3,msame_4))\n",
    "print(msame)\n",
    "\n"
   ]
  },
  {
   "cell_type": "code",
   "execution_count": 229,
   "id": "e3847541",
   "metadata": {},
   "outputs": [
    {
     "name": "stdout",
     "output_type": "stream",
     "text": [
      "[[ 7.  7.  7.  7.  7.]\n",
      " [ 7.  7.  7.  7.  7.]\n",
      " [ 0.  0.  0.  0.  0.]\n",
      " [ 1.  2.  3.  4.  5.]\n",
      " [42. 42. 42. 42. 42.]]\n"
     ]
    }
   ],
   "source": [
    "#c.)\n",
    "msame[1]\n",
    "msame_5 = msame[1]*6\n",
    "msame_final = np.vstack((msame_1_2,msame_3,msame_4,msame_5))\n",
    "print(msame_final)"
   ]
  },
  {
   "cell_type": "code",
   "execution_count": 248,
   "id": "6214ea65",
   "metadata": {},
   "outputs": [
    {
     "name": "stdout",
     "output_type": "stream",
     "text": [
      "[[ 0.   4.   8.   1.  16.  20.  24.  28.   7.   7.   7.   7.   7. ]\n",
      " [69.  68.  67.   2.  65.  64.  63.  62.   0.   0.   0.   0.   0. ]\n",
      " [ 1.4  1.3  1.2  3.   1.   0.9  0.8  0.7  1.   2.   3.   4.   5. ]]\n"
     ]
    }
   ],
   "source": [
    "#d.)\n",
    "concatenate = np.hstack((b,(msame_final[1:4,:])))\n",
    "print(concatenate)"
   ]
  },
  {
   "cell_type": "code",
   "execution_count": 253,
   "id": "ef20ab46",
   "metadata": {},
   "outputs": [
    {
     "name": "stdout",
     "output_type": "stream",
     "text": [
      "32.0\n"
     ]
    }
   ],
   "source": [
    "#7 dot product\n",
    "import numpy as np\n",
    "\n",
    "a= np.linspace(1,3,num=3)\n",
    "b=np.linspace(4,6,num=3)\n",
    "print(np.sum(a*b))"
   ]
  },
  {
   "cell_type": "code",
   "execution_count": null,
   "id": "71812394",
   "metadata": {},
   "outputs": [],
   "source": []
  }
 ],
 "metadata": {
  "kernelspec": {
   "display_name": "Python 3 (ipykernel)",
   "language": "python",
   "name": "python3"
  },
  "language_info": {
   "codemirror_mode": {
    "name": "ipython",
    "version": 3
   },
   "file_extension": ".py",
   "mimetype": "text/x-python",
   "name": "python",
   "nbconvert_exporter": "python",
   "pygments_lexer": "ipython3",
   "version": "3.9.12"
  }
 },
 "nbformat": 4,
 "nbformat_minor": 5
}
