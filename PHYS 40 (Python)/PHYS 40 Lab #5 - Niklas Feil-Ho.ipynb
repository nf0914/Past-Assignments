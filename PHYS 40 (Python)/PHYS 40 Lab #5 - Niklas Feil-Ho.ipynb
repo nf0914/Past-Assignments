{
 "cells": [
  {
   "cell_type": "markdown",
   "id": "f0148adf",
   "metadata": {},
   "source": [
    "# 5.1 Calculation of PI"
   ]
  },
  {
   "cell_type": "code",
   "execution_count": 50,
   "id": "6c0097e5",
   "metadata": {},
   "outputs": [
    {
     "name": "stdout",
     "output_type": "stream",
     "text": [
      "3.1416743126988376 7\n"
     ]
    }
   ],
   "source": [
    "def term(n):\n",
    "    import math\n",
    "    term = ((-1)**n)/((2*n+1)*3**n)\n",
    "    return term*math.sqrt(12)\n",
    "n=0\n",
    "tolerance = 0.001\n",
    "sumold=0\n",
    "eps=1000\n",
    "sum1=0.0\n",
    "while(eps>tolerance):\n",
    "    sum1=sum1+term(n)\n",
    "    eps=abs(sum1-sumold)\n",
    "    sumold=sum1\n",
    "    n=n+1\n",
    "print(sum1,n)\n",
    "    "
   ]
  },
  {
   "cell_type": "code",
   "execution_count": 69,
   "id": "c0927b22",
   "metadata": {},
   "outputs": [
    {
     "name": "stdout",
     "output_type": "stream",
     "text": [
      "3.1420924036835256 2002\n"
     ]
    }
   ],
   "source": [
    "def term(j):  #b\n",
    "    import math\n",
    "    term = (-1)**(j+1)/(2*j-1)\n",
    "    return term*(4)\n",
    "j=1\n",
    "tolerance = 0.001\n",
    "totalold=0\n",
    "eps=1000\n",
    "total1=0.0\n",
    "while(eps>tolerance):\n",
    "    total1=total1+term(j)\n",
    "    eps=abs(total1-totalold)\n",
    "    totalold=total1\n",
    "    j=j+1\n",
    "print(total1,j)\n"
   ]
  },
  {
   "cell_type": "markdown",
   "id": "bfe69813",
   "metadata": {},
   "source": [
    "# 5.2 Free Fall With Drag"
   ]
  },
  {
   "cell_type": "code",
   "execution_count": 107,
   "id": "138aff73",
   "metadata": {},
   "outputs": [
    {
     "data": {
      "text/plain": [
       "[<matplotlib.lines.Line2D at 0x7ffb776c5a30>]"
      ]
     },
     "execution_count": 107,
     "metadata": {},
     "output_type": "execute_result"
    },
    {
     "data": {
      "image/png": "[encoded data removed]",
      "text/plain": [
       "<Figure size 432x288 with 1 Axes>"
      ]
     },
     "metadata": {
      "needs_background": "light"
     },
     "output_type": "display_data"
    }
   ],
   "source": [
    "import numpy as np \n",
    "import matplotlib.pylab as plt # alias matplotlib.pylab to plt \n",
    "\n",
    "def Velt (t):\n",
    "    import math\n",
    "    term = g*t\n",
    "    return term\n",
    "g=9.81\n",
    "def Drag (t):\n",
    "    import math\n",
    "    term = ((m*g)/b)*(1-(np.e**-((b*t)/m)))\n",
    "    return term\n",
    "g=9.81\n",
    "m=0.5\n",
    "b1=1\n",
    "b2=2\n",
    "b3=5\n",
    "\n",
    "t = np.linspace(0.,10,200) # creates evenly spaced points \n",
    "y = ((m*g)/b1)*(1-(np.e**-((b1*t)/m)))  # square of ever element in x \n",
    "plt.plot(t,y) # use default plot style; Solid Style Line\n",
    "\n",
    "t = np.linspace(0.,10,200) # creates evenly spaced points \n",
    "y = ((m*g)/b2)*(1-(np.e**-((b2*t)/m)))  # square of ever element in x \n",
    "plt.plot(t,y) # use default plot style; Solid Style Line\n",
    "\n",
    "t = np.linspace(0.,10,200) # creates evenly spaced points \n",
    "y = ((m*g)/b3)*(1-(np.e**-((b3*t)/m)))  # square of ever element in x \n",
    "plt.plot(t,y) # use default plot style; Solid Style Line\n"
   ]
  },
  {
   "cell_type": "markdown",
   "id": "528bed83",
   "metadata": {},
   "source": [
    "# # Terminal Velocity of...\n",
    "B1= 4.8\n",
    "B2=2.45\n",
    "B3=1"
   ]
  },
  {
   "cell_type": "code",
   "execution_count": 123,
   "id": "88340bb2",
   "metadata": {},
   "outputs": [
    {
     "name": "stdout",
     "output_type": "stream",
     "text": [
      "0.01211161161161161\n"
     ]
    }
   ],
   "source": [
    "#3b #1%\n",
    "b=b1\n",
    "one_flag =0\n",
    "time=np.linspace(0.0001,3,1000)\n",
    "for t in time:    \n",
    "    diff=(abs(Drag(t)-Velt(t)))/((1/2)*(Drag(t)+Velt(t)))\n",
    "    if diff>0.01 and one_flag==0:\n",
    "        print(t)\n",
    "        one_flag=1"
   ]
  },
  {
   "cell_type": "code",
   "execution_count": 130,
   "id": "e54f6fb4",
   "metadata": {},
   "outputs": [
    {
     "name": "stdout",
     "output_type": "stream",
     "text": [
      "0.10219869869869869\n"
     ]
    }
   ],
   "source": [
    "b=b1  #10%.\n",
    "one_flag =0\n",
    "time=np.linspace(0.0001,3,1000)\n",
    "for t in time: \n",
    "    diff=(abs(Drag(t)-Velt(t)))/((1/2)*(Drag(t)+Velt(t)))\n",
    "    if diff>0.10 and one_flag==0:\n",
    "        print(t)\n",
    "        one_flag=1"
   ]
  },
  {
   "cell_type": "code",
   "execution_count": null,
   "id": "ab5bce74",
   "metadata": {},
   "outputs": [],
   "source": []
  }
 ],
 "metadata": {
  "kernelspec": {
   "display_name": "Python 3 (ipykernel)",
   "language": "python",
   "name": "python3"
  },
  "language_info": {
   "codemirror_mode": {
    "name": "ipython",
    "version": 3
   },
   "file_extension": ".py",
   "mimetype": "text/x-python",
   "name": "python",
   "nbconvert_exporter": "python",
   "pygments_lexer": "ipython3",
   "version": "3.9.12"
  }
 },
 "nbformat": 4,
 "nbformat_minor": 5
}
