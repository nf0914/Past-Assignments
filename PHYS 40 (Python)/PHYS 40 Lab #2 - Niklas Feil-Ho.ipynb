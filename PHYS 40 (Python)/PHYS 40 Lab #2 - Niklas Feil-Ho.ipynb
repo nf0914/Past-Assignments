{
 "cells": [
  {
   "cell_type": "markdown",
   "id": "2133eb56",
   "metadata": {},
   "source": [
    "# 2.1 Bizzare Behavior"
   ]
  },
  {
   "cell_type": "code",
   "execution_count": 28,
   "id": "74bd3e3c",
   "metadata": {},
   "outputs": [
    {
     "data": {
      "text/plain": [
       "16.88210319127114"
      ]
     },
     "execution_count": 28,
     "metadata": {},
     "output_type": "execute_result"
    }
   ],
   "source": [
    "d = 8 #the correct answer should be 8 but it seems it is giving a result of double the value\n",
    "e = 2\n",
    "from math import * #This is happening because it is recording e as Euler's number\n",
    "sqrt(d**e)         # This is also happening because of the math import which makes using this a bad idea\n"
   ]
  },
  {
   "cell_type": "markdown",
   "id": "4037cbcc",
   "metadata": {},
   "source": [
    "# 2.2 Heron's formula"
   ]
  },
  {
   "cell_type": "code",
   "execution_count": 12,
   "id": "e7155745",
   "metadata": {
    "scrolled": true
   },
   "outputs": [
    {
     "data": {
      "text/plain": [
       "4.63511081571606"
      ]
     },
     "execution_count": 12,
     "metadata": {},
     "output_type": "execute_result"
    }
   ],
   "source": [
    "a = 4.503 \n",
    "b = 2.377  \n",
    "c = 3.902 \n",
    "s = (a + b + c)/ 2\n",
    "sqrt(s * (s - a) * (s - b) * (s - c))"
   ]
  },
  {
   "cell_type": "code",
   "execution_count": 11,
   "id": "1c6fe020",
   "metadata": {},
   "outputs": [
    {
     "data": {
      "text/plain": [
       "271.63946694101725"
      ]
     },
     "execution_count": 11,
     "metadata": {},
     "output_type": "execute_result"
    }
   ],
   "source": [
    "a = 17  #2.2 Heron's formula - my own values\n",
    "b = 32  \n",
    "c = 37 \n",
    "s = (a + b + c)/ 2\n",
    "sqrt(s * (s - a) * (s - b) * (s - c)) "
   ]
  },
  {
   "cell_type": "markdown",
   "id": "5ba021a7",
   "metadata": {},
   "source": [
    "# 2.3 Surface Area of the Earth "
   ]
  },
  {
   "cell_type": "code",
   "execution_count": 63,
   "id": "a1efaa71",
   "metadata": {},
   "outputs": [
    {
     "name": "stdout",
     "output_type": "stream",
     "text": [
      "509492949765923.4\n",
      "5.0949295e+14\n"
     ]
    }
   ],
   "source": [
    "a = 6378137.0\n",
    "c = 6356752.314245\n",
    "e = sqrt(1-c**2/a**2) \n",
    "S_obl = 2*(pi)*(a**2)*(1 +(1-((e**2)/e)*atanh(e)))    \n",
    "print(S_obl)\n",
    "print(f\"{S_obl:.8}\")\n",
    "#This is the expected value"
   ]
  },
  {
   "cell_type": "code",
   "execution_count": 73,
   "id": "d75f7149",
   "metadata": {},
   "outputs": [
    {
     "name": "stdout",
     "output_type": "stream",
     "text": [
      "510064471909788.25\n"
     ]
    }
   ],
   "source": [
    "r = 6371000  \n",
    "S = 4*(pi)*r**2  # S = to surface area equation to simplify \n",
    "print(S) #This is the actual observed value"
   ]
  },
  {
   "cell_type": "code",
   "execution_count": 79,
   "id": "983baa50",
   "metadata": {},
   "outputs": [
    {
     "data": {
      "text/plain": [
       "0.001121746913529323"
      ]
     },
     "execution_count": 79,
     "metadata": {},
     "output_type": "execute_result"
    }
   ],
   "source": [
    "abs((S-S_obl)/S_obl) # with the findings, The Earth is quite reasonably oblate in my opinion"
   ]
  },
  {
   "cell_type": "code",
   "execution_count": null,
   "id": "217f2ee0",
   "metadata": {},
   "outputs": [],
   "source": []
  }
 ],
 "metadata": {
  "kernelspec": {
   "display_name": "Python 3 (ipykernel)",
   "language": "python",
   "name": "python3"
  },
  "language_info": {
   "codemirror_mode": {
    "name": "ipython",
    "version": 3
   },
   "file_extension": ".py",
   "mimetype": "text/x-python",
   "name": "python",
   "nbconvert_exporter": "python",
   "pygments_lexer": "ipython3",
   "version": "3.9.12"
  }
 },
 "nbformat": 4,
 "nbformat_minor": 5
}
