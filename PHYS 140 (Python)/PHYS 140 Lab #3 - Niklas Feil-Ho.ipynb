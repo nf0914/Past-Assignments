{
 "cells": [
  {
   "cell_type": "markdown",
   "id": "3dd2fc28",
   "metadata": {},
   "source": [
    "# 3.1 Machine precision and limits"
   ]
  },
  {
   "cell_type": "code",
   "execution_count": 27,
   "id": "047ea22b",
   "metadata": {},
   "outputs": [
    {
     "name": "stdout",
     "output_type": "stream",
     "text": [
      "Machine epsilon: 0.0000000000000002\n",
      "1 + epsilon: 1.0000000000000002\n",
      "1 + epsilon/2: 1.0000000000000000\n"
     ]
    }
   ],
   "source": [
    "#a\n",
    "def machineEpsilon():\n",
    "    eps = 1.0\n",
    "    while (1.0 + eps) != 1.0:\n",
    "        eps /= 2\n",
    "    return eps * 2 \n",
    "\n",
    "epsilon = machineEpsilon()\n",
    "print(f\"Machine epsilon: {epsilon:.16f}\")  # This will print the machine epsilon value\n",
    "# 1 + epsilon will be slightly greater than 1, demonstrating the smallest increment from 1.0 that is recognizable\n",
    "print(f\"1 + epsilon: {1 + epsilon:.16f}\")  # Expected to print a value slightly greater than 1.0\n",
    "# 1 + epsilon/2 will be exactly 1.0 because epsilon/2 is too small to be distinguished from 1.0 due to precision limits\n",
    "print(f\"1 + epsilon/2: {1 + epsilon/2:.16f}\")  # Expected to print exactly 1.0"
   ]
  },
  {
   "cell_type": "code",
   "execution_count": 28,
   "id": "7407ae04",
   "metadata": {
    "scrolled": true
   },
   "outputs": [
    {
     "name": "stdout",
     "output_type": "stream",
     "text": [
      "Smallest double precision float: 4.9406564584124654e-324\n",
      "Value smaller than smallest float: 0.0000000000000000e+00\n"
     ]
    }
   ],
   "source": [
    "#b\n",
    "smallestFloat = 2.0 ** -1074\n",
    "print(f\"Smallest double precision float: {smallestFloat:.16e}\")\n",
    "#smallest positive normalized double precision float\n",
    "evenSmaller = 2.0 ** -1075\n",
    "print(f\"Value smaller than smallest float: {evenSmaller:.16e}\")\n",
    "#underflow resulting in 0"
   ]
  },
  {
   "cell_type": "code",
   "execution_count": 29,
   "id": "0a5d0d60",
   "metadata": {},
   "outputs": [
    {
     "name": "stdout",
     "output_type": "stream",
     "text": [
      "Largest binary number in mantissa converted to decimal: 1.9999999999999998\n",
      "Expected value (2 - 2^-52): 1.9999999999999998\n"
     ]
    }
   ],
   "source": [
    "#c\n",
    "decimalValue = 1.0\n",
    "\n",
    "for n in range(1, 53):\n",
    "    decimalValue += 2 ** -n\n",
    "\n",
    "print(f\"Largest binary number in mantissa converted to decimal: {decimalValue:.16f}\")\n",
    "print(f\"Expected value (2 - 2^-52): {2 - 2**-52:.16f}\")\n",
    "#binary fraction is 1+S=2−2^−52"
   ]
  },
  {
   "cell_type": "code",
   "execution_count": 30,
   "id": "3c41a7db",
   "metadata": {},
   "outputs": [
    {
     "name": "stdout",
     "output_type": "stream",
     "text": [
      "Largest power of 2 before overflow: 8.9884656743115795e+307\n",
      "Overflow occurred: (34, 'Result too large')\n"
     ]
    }
   ],
   "source": [
    "#d\n",
    "# Largest power of 2 before overflow\n",
    "largestPower2 = 2.0 ** 1023\n",
    "print(f\"Largest power of 2 before overflow: {largestPower2:.16e}\")\n",
    "\n",
    "# Attempting to calculate a power that causes overflow\n",
    "try:\n",
    "    overflowValue = 2.0 ** 1024\n",
    "    print(f\"Value at overflow: {overflowValue:.16e}\")\n",
    "except OverflowError as e:\n",
    "    print(f\"Overflow occurred: {e}\")\n"
   ]
  },
  {
   "cell_type": "markdown",
   "id": "43051113",
   "metadata": {},
   "source": [
    "# 3.2 Mathematical equivalence does not mean numerical equivalence"
   ]
  },
  {
   "cell_type": "code",
   "execution_count": 31,
   "id": "06ffd02b",
   "metadata": {},
   "outputs": [
    {
     "name": "stdout",
     "output_type": "stream",
     "text": [
      "Method 1: sqrt(2) = 1.4210854715202004\n",
      "Method 2: sqrt(2) = 1.4142135623730951\n"
     ]
    }
   ],
   "source": [
    "import math\n",
    "\n",
    "x = 1\n",
    "y = 1 + 10**-14 * math.sqrt(2)\n",
    "\n",
    "sqrt2Method1 = 10**14 * (y - x)\n",
    "\n",
    "sqrt2Method2 = math.sqrt(2)\n",
    "\n",
    "print(f\"Method 1: sqrt(2) = {sqrt2_method1:.16f}\")\n",
    "print(f\"Method 2: sqrt(2) = {sqrt2_method2:.16f}\")\n",
    "#method 1 is an indirect calculation while method 2 is a direct calculation. \n",
    "#As method 2 is a direct calculation, it should be more accurate\n",
    "#As method 1 is an indirect calculation, it can cause rounding errors"
   ]
  },
  {
   "cell_type": "markdown",
   "id": "17ac5ffa",
   "metadata": {},
   "source": [
    "# 3.3 Quadratic equation"
   ]
  },
  {
   "cell_type": "code",
   "execution_count": 33,
   "id": "2ba97b97",
   "metadata": {},
   "outputs": [
    {
     "name": "stdout",
     "output_type": "stream",
     "text": [
      "Enter coefficient a: 1e-3\n",
      "Enter coefficient b: 1e+3\n",
      "Enter coefficient c: 1e-3\n",
      "The roots of the equation are: -999999.999999 and -9.999894245993346e-07\n"
     ]
    }
   ],
   "source": [
    "#a\n",
    "import math\n",
    "\n",
    "def quadratic(a, b, c):\n",
    "    discriminant = b**2 - 4*a*c\n",
    "    \n",
    "    if discriminant < 0:\n",
    "        return (\"Complex roots\", \"Complex roots\")\n",
    "    \n",
    "    root1 = (-b - math.sqrt(discriminant)) / (2 * a)\n",
    "    root2 = (-b + math.sqrt(discriminant)) / (2 * a)\n",
    "    \n",
    "    return (root1, root2)\n",
    "\n",
    "a = eval(input(\"Enter coefficient a: \"))\n",
    "b = eval(input(\"Enter coefficient b: \"))\n",
    "c = eval(input(\"Enter coefficient c: \"))\n",
    "\n",
    "roots = quadratic(a, b, c)\n",
    "\n",
    "print(f\"The roots of the equation are: {roots[0]} and {roots[1]}\")\n"
   ]
  },
  {
   "cell_type": "code",
   "execution_count": 34,
   "id": "3a2db3ab",
   "metadata": {},
   "outputs": [
    {
     "name": "stdout",
     "output_type": "stream",
     "text": [
      "With coefficients a=0.001, b=1000.0, and c=0.001, the roots are: -999999.999999 and -9.999894245993346e-07\n"
     ]
    }
   ],
   "source": [
    "#b\n",
    "a = 1e-3\n",
    "b = 1e+3\n",
    "c = 1e-3\n",
    "\n",
    "roots = quadratic(a, b, c)\n",
    "\n",
    "print(f\"With coefficients a={a}, b={b}, and c={c}, the roots are: {roots[0]} and {roots[1]}\")"
   ]
  },
  {
   "cell_type": "code",
   "execution_count": 35,
   "id": "5ae3e0a9",
   "metadata": {},
   "outputs": [
    {
     "name": "stdout",
     "output_type": "stream",
     "text": [
      "Alternative method roots: -1.000000000001e-06 and -1000010.5755125057\n"
     ]
    }
   ],
   "source": [
    "#c\n",
    "def quadraticAlternative(a, b, c):\n",
    "    discriminant = b**2 - 4*a*c\n",
    "    \n",
    "    if discriminant < 0:\n",
    "        return (\"Complex roots\", \"Complex roots\")\n",
    "    \n",
    "    root1_alt = (2 * c) / (-b - math.sqrt(discriminant))\n",
    "    root2_alt = (2 * c) / (-b + math.sqrt(discriminant))\n",
    "    \n",
    "    return (root1_alt, root2_alt)\n",
    "\n",
    "a = 1e-3\n",
    "b = 1e3\n",
    "c = 1e-3\n",
    "\n",
    "roots_alt = quadraticAlternative(a, b, c)\n",
    "\n",
    "print(f\"Alternative method roots: {roots_alt[0]} and {roots_alt[1]}\")\n",
    "# The results are different because part b used the standard quatratic formula\n",
    "# while this part used an alternative method that provides more accurate results by reducing loss of sig. digits"
   ]
  },
  {
   "cell_type": "code",
   "execution_count": 36,
   "id": "165d3a39",
   "metadata": {},
   "outputs": [],
   "source": [
    "#d\n",
    "# x'1 & x'2 are more accurate roots of the quadratic equation becasue of to the method's design to \n",
    "# minimize floating-point arithmetic errors"
   ]
  },
  {
   "cell_type": "code",
   "execution_count": 37,
   "id": "8d6ab63a",
   "metadata": {},
   "outputs": [],
   "source": [
    "#e\n",
    "# Based on the contextuality of what b is equal to, the answer to part d may/can change subtly but\n",
    "# the sign of b does not change the case that the alternative method is generally more reliabe"
   ]
  }
 ],
 "metadata": {
  "kernelspec": {
   "display_name": "Python 3 (ipykernel)",
   "language": "python",
   "name": "python3"
  },
  "language_info": {
   "codemirror_mode": {
    "name": "ipython",
    "version": 3
   },
   "file_extension": ".py",
   "mimetype": "text/x-python",
   "name": "python",
   "nbconvert_exporter": "python",
   "pygments_lexer": "ipython3",
   "version": "3.9.12"
  }
 },
 "nbformat": 4,
 "nbformat_minor": 5
}
